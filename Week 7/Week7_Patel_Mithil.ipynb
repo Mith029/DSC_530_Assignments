{
 "cells": [
  {
   "cell_type": "code",
   "execution_count": 4,
   "metadata": {},
   "outputs": [],
   "source": [
    "# Mithil Patel \n",
    "# DSC 530 Week 7 Assignment\n",
    "# 24th July, 2022\n",
    "\n",
    "# Importing libraries\n",
    "import thinkstats2\n",
    "import numpy as np\n",
    "from thinkstats2 import HypothesisTest\n",
    "import first "
   ]
  },
  {
   "cell_type": "code",
   "execution_count": 9,
   "metadata": {},
   "outputs": [],
   "source": [
    "# Function for permutation to calculate the difference in mean \n",
    "class DiffMeansPermute(thinkstats2.HypothesisTest):\n",
    "    def TestStatistic(self, data):\n",
    "        group1, group2 = data\n",
    "        test_stat = abs(group1.mean() - group2.mean())\n",
    "        return test_stat\n",
    "\n",
    "    def MakeModel(self):\n",
    "        group1, group2 = self.data\n",
    "        self.n, self.m = len(group1), len(group2)\n",
    "        self.pool = np.hstack((group1, group2))\n",
    "\n",
    "    def RunModel(self):\n",
    "        np.random.shuffle(self.pool)\n",
    "        data = self.pool[:self.n], self.pool[self.n:]\n",
    "        return data\n",
    "\n",
    "# class to test for Pearson's correlation \n",
    "class CorrelationPermute(thinkstats2.HypothesisTest):\n",
    "    def TestStatistic(self, data):\n",
    "        xs, ys = data\n",
    "        test_stat = abs(thinkstats2.Corr(xs, ys))\n",
    "        return test_stat\n",
    "    def RunModel(self):\n",
    "        xs, ys = self.data\n",
    "        xs = np.random.permutation(xs)\n",
    "        return xs, ys\n",
    "\n",
    "# Class to find apparent difference in mean using chi-square statistic\n",
    "class PregLengthTest(thinkstats2.HypothesisTest):\n",
    "    def MakeModel(self):\n",
    "        firsts, others = self.data\n",
    "        self.n = len(firsts)\n",
    "        self.pool = np.hstack((firsts, others))\n",
    "\n",
    "        pmf = thinkstats2.Pmf(self.pool)\n",
    "        self.values = range(35, 44)\n",
    "        self.expected_probs = np.array(pmf.Probs(self.values))\n",
    "\n",
    "    def RunModel(self):\n",
    "        np.random.shuffle(self.pool)\n",
    "        data = self.pool[:self.n], self.pool[self.n:]\n",
    "        return data\n",
    "    \n",
    "    def TestStatistic(self, data):\n",
    "        firsts, others = data\n",
    "        stat = self.ChiSquared(firsts) + self.ChiSquared(others)\n",
    "        return stat\n",
    "\n",
    "    def ChiSquared(self, lengths):\n",
    "        hist = thinkstats2.Hist(lengths)\n",
    "        observed = np.array(hist.Freqs(self.values))\n",
    "        expected = self.expected_probs * len(lengths)\n",
    "        stat = sum((observed - expected)**2 / expected)\n",
    "        return stat"
   ]
  },
  {
   "cell_type": "code",
   "execution_count": 10,
   "metadata": {},
   "outputs": [
    {
     "name": "stdout",
     "output_type": "stream",
     "text": [
      "200\t0.47\t0.41\t0.01\t0.26\n",
      "400\t0.14\t0.03\t0.03\t0.00\n",
      "700\t0.83\t0.15\t0.00\t0.25\n",
      "1000\t0.90\t0.07\t0.00\t0.03\n",
      "3000\t0.99\t0.00\t0.00\t0.00\n",
      "6000\t0.20\t0.01\t0.00\t0.00\n",
      "9000\t0.19\t0.00\t0.00\t0.00\n"
     ]
    }
   ],
   "source": [
    "# Function to calculate the p-value of four test using the subset of pregnancy length sample\n",
    "def tests(df):\n",
    "    firsts = df[df.birthord == 1]\n",
    "    others = df[df.birthord != 1]\n",
    "    \n",
    "    dat_1 = firsts.prglngth.values, others.prglngth.values\n",
    "    test_1 = DiffMeansPermute(dat_1)\n",
    "    pval_1 = test_1.PValue(iters=1000)\n",
    "    \n",
    "    dat_2 = (firsts.totalwgt_lb.dropna().values, others.totalwgt_lb.dropna().values)\n",
    "    test_2 = DiffMeansPermute(dat_2)\n",
    "    pval_2 = test_2.PValue(iters=1000)\n",
    "    \n",
    "    test_3 = PregLengthTest(dat_1)\n",
    "    pval_3 = test_3.PValue(iters=1000)\n",
    "    \n",
    "    dat4 = df.dropna(subset=['agepreg', 'totalwgt_lb'])\n",
    "    dat_4 = dat4.agepreg.values, dat4.totalwgt_lb.values\n",
    "    test_4 = CorrelationPermute(dat_4)\n",
    "    pval_4 = test_4.PValue(iters=1000)\n",
    "    \n",
    "    return pval_1,pval_2,pval_3,pval_4\n",
    "\n",
    "# Calling the test function and displaying the result with difference sample size\n",
    "live, firsts, others = first.MakeFrames()\n",
    "n = [200,400,700,1000,3000,6000,9000]\n",
    "for i in range(len(n)):\n",
    "    sample = thinkstats2.SampleRows(live, n[i])\n",
    "    pval_1,pval_2,pval_3,pval_4 = tests(sample)\n",
    "    print('%d\\t%0.2f\\t%0.2f\\t%0.2f\\t%0.2f' % (n[i], pval_1, pval_2, pval_3, pval_4))"
   ]
  },
  {
   "cell_type": "markdown",
   "metadata": {},
   "source": [
    "The output is sporadic as the sample side increase, which is contrary to the expected positive values as the sample size increases. Additionally, there exist high positive values with smaller sample sizes such as n = 200 and 700."
   ]
  },
  {
   "cell_type": "code",
   "execution_count": null,
   "metadata": {},
   "outputs": [],
   "source": []
  },
  {
   "cell_type": "markdown",
   "metadata": {},
   "source": [
    "Problem 10.1"
   ]
  },
  {
   "cell_type": "code",
   "execution_count": 6,
   "metadata": {},
   "outputs": [
    {
     "data": {
      "text/html": [
       "<div>\n",
       "<style scoped>\n",
       "    .dataframe tbody tr th:only-of-type {\n",
       "        vertical-align: middle;\n",
       "    }\n",
       "\n",
       "    .dataframe tbody tr th {\n",
       "        vertical-align: top;\n",
       "    }\n",
       "\n",
       "    .dataframe thead th {\n",
       "        text-align: right;\n",
       "    }\n",
       "</style>\n",
       "<table border=\"1\" class=\"dataframe\">\n",
       "  <thead>\n",
       "    <tr style=\"text-align: right;\">\n",
       "      <th></th>\n",
       "      <th>age</th>\n",
       "      <th>sex</th>\n",
       "      <th>wtyrago</th>\n",
       "      <th>finalwt</th>\n",
       "      <th>wtkg2</th>\n",
       "      <th>htm3</th>\n",
       "    </tr>\n",
       "  </thead>\n",
       "  <tbody>\n",
       "    <tr>\n",
       "      <th>0</th>\n",
       "      <td>82.0</td>\n",
       "      <td>2</td>\n",
       "      <td>76.363636</td>\n",
       "      <td>185.870345</td>\n",
       "      <td>70.91</td>\n",
       "      <td>157.0</td>\n",
       "    </tr>\n",
       "    <tr>\n",
       "      <th>1</th>\n",
       "      <td>65.0</td>\n",
       "      <td>2</td>\n",
       "      <td>72.727273</td>\n",
       "      <td>126.603027</td>\n",
       "      <td>72.73</td>\n",
       "      <td>163.0</td>\n",
       "    </tr>\n",
       "    <tr>\n",
       "      <th>3</th>\n",
       "      <td>61.0</td>\n",
       "      <td>1</td>\n",
       "      <td>73.636364</td>\n",
       "      <td>517.926275</td>\n",
       "      <td>73.64</td>\n",
       "      <td>170.0</td>\n",
       "    </tr>\n",
       "    <tr>\n",
       "      <th>4</th>\n",
       "      <td>26.0</td>\n",
       "      <td>1</td>\n",
       "      <td>88.636364</td>\n",
       "      <td>1252.624630</td>\n",
       "      <td>88.64</td>\n",
       "      <td>185.0</td>\n",
       "    </tr>\n",
       "    <tr>\n",
       "      <th>5</th>\n",
       "      <td>42.0</td>\n",
       "      <td>1</td>\n",
       "      <td>118.181818</td>\n",
       "      <td>415.161314</td>\n",
       "      <td>109.09</td>\n",
       "      <td>183.0</td>\n",
       "    </tr>\n",
       "  </tbody>\n",
       "</table>\n",
       "</div>"
      ],
      "text/plain": [
       "    age  sex     wtyrago      finalwt   wtkg2   htm3\n",
       "0  82.0    2   76.363636   185.870345   70.91  157.0\n",
       "1  65.0    2   72.727273   126.603027   72.73  163.0\n",
       "3  61.0    1   73.636364   517.926275   73.64  170.0\n",
       "4  26.0    1   88.636364  1252.624630   88.64  185.0\n",
       "5  42.0    1  118.181818   415.161314  109.09  183.0"
      ]
     },
     "execution_count": 6,
     "metadata": {},
     "output_type": "execute_result"
    }
   ],
   "source": [
    "# Importing dataframe\n",
    "import brfss\n",
    "\n",
    "# Cleaning the height and weight variable.\n",
    "# Convert the weight variable to log scale\n",
    "df = brfss.ReadBrfss(nrows=None)\n",
    "df = df.dropna(subset=['htm3', 'wtkg2'])\n",
    "height, log_weight = df.htm3, np.log10(df.wtkg2)\n",
    "df.head()"
   ]
  },
  {
   "cell_type": "code",
   "execution_count": 17,
   "metadata": {},
   "outputs": [
    {
     "data": {
      "image/png": "[encoded data removed]",
      "text/plain": [
       "<Figure size 432x288 with 1 Axes>"
      ]
     },
     "metadata": {
      "needs_background": "light"
     },
     "output_type": "display_data"
    }
   ],
   "source": [
    "from thinkstats2 import MeanVar, Mean, Cov\n",
    "import thinkplot\n",
    "\n",
    "# Computing Linear least square fit for log(weight) vs height\n",
    "def LeastSquares(xs, ys):\n",
    "    meanx, varx = MeanVar(xs)\n",
    "    meany = Mean(ys)\n",
    "    slope = Cov(xs, ys, meanx, meany) / varx\n",
    "    inter = meany - slope * meanx\n",
    "    return inter, slope\n",
    "\n",
    "\n",
    "def FitLine(xs, inter, slope):\n",
    "    fit_xs = np.sort(xs)\n",
    "    fit_ys = inter + slope * fit_xs\n",
    "    return fit_xs, fit_ys\n",
    "\n",
    "# Plotting the log(weight) vs height graph\n",
    "inter, slope = LeastSquares(height, log_weight)\n",
    "fx, fy = thinkstats2.FitLine(height, inter, slope)\n",
    "thinkplot.Scatter(height, log_weight, alpha=0.05, s=5)\n",
    "thinkplot.Plot(fx, fy, color='red')\n",
    "thinkplot.Config(xlabel='height', ylabel='log10 weight', legend=True)"
   ]
  },
  {
   "cell_type": "code",
   "execution_count": 14,
   "metadata": {},
   "outputs": [
    {
     "data": {
      "image/png": "[encoded data removed]",
      "text/plain": [
       "<Figure size 432x288 with 1 Axes>"
      ]
     },
     "metadata": {
      "needs_background": "light"
     },
     "output_type": "display_data"
    }
   ],
   "source": [
    "# Log-transforming height variable and then plotting it\n",
    "thinkplot.Scatter(height, df.wtkg2, alpha=0.01, s=5)\n",
    "thinkplot.Plot(fx, 10**fy, color='red')\n",
    "thinkplot.Config(xlabel='height', ylabel='weight', legend=True)"
   ]
  },
  {
   "cell_type": "code",
   "execution_count": 19,
   "metadata": {},
   "outputs": [
    {
     "name": "stdout",
     "output_type": "stream",
     "text": [
      "Reduced RMSE: 0.15308497658793563\n"
     ]
    }
   ],
   "source": [
    "# Calculating reduced root mean square error (RSME)\n",
    "std_ys = thinkstats2.Std(log_weight)\n",
    "res = thinkstats2.Residuals(height, log_weight, inter, slope)\n",
    "std_res = thinkstats2.Std(res)\n",
    "print(f\"Reduced RMSE: {1 - std_res / std_ys}\")"
   ]
  },
  {
   "cell_type": "markdown",
   "metadata": {},
   "source": [
    "The log(weight) vs height graph clearly shows a strong linear relationship. However, the y scale is in log10 which means that the relationship is exponential, and therefore one cannot predict one variable without knowing the other. However, the calculated reduced root mean square error (RSME) value of 15% highlight the high predictive power of our model and thus one can guess someone's weight by knowing their height. "
   ]
  },
  {
   "cell_type": "code",
   "execution_count": null,
   "metadata": {},
   "outputs": [],
   "source": [
    "from thinkstats2 import Mean, MeanVar, Var, Std\n",
    "\n",
    "# Function for resampling rows\n",
    "def ResampleRowsWeighted(df, column):\n",
    "    weights = df[column]\n",
    "    cdf = thinkstats2.Cdf(dict(weights))\n",
    "    indices = cdf.Sample(len(weights))\n",
    "    sample = df.loc[indices]\n",
    "    return sample\n",
    "\n",
    "# function to displays statistically summary(mean, standard error, and confidence interval) \n",
    "def Summarize(estimates, actual=None):\n",
    "    mean = Mean(estimates)\n",
    "    se = Std(estimates, mu=actual)\n",
    "    cdf = thinkstats2.Cdf(estimates)\n",
    "    CI = cdf.ConfidenceInterval(90)\n",
    "    print(f\"Mean: {mean}\\nStandard Error: {se}\\nConfidence Interval:{CI}\")\n",
    "    return\n",
    "\n",
    "# weighted resampling to estimate mean, standard error, and confidence interval\n",
    "estimates_weighted = [ResampleRowsWeighted(df, 'finalwt').htm3.mean() for _ in range(100)]\n",
    "Summarize(estimates_weighted)"
   ]
  },
  {
   "cell_type": "code",
   "execution_count": 12,
   "metadata": {},
   "outputs": [
    {
     "name": "stdout",
     "output_type": "stream",
     "text": [
      "Mean: 168.95442109278684\n",
      "Standard Error: 0.017268235444825714\n",
      "Confidence Interval:(168.92125194526972, 168.97864498069887)\n"
     ]
    }
   ],
   "source": [
    "# unweighted resampling to estimate mean, standard error, and confidence interval\n",
    "estimates_unweighted = [thinkstats2.ResampleRows(df).htm3.mean() for _ in range(100)]\n",
    "Summarize(estimates_unweighted)"
   ]
  },
  {
   "cell_type": "code",
   "execution_count": null,
   "metadata": {},
   "outputs": [],
   "source": []
  }
 ],
 "metadata": {
  "kernelspec": {
   "display_name": "Python 3",
   "language": "python",
   "name": "python3"
  },
  "language_info": {
   "codemirror_mode": {
    "name": "ipython",
    "version": 3
   },
   "file_extension": ".py",
   "mimetype": "text/x-python",
   "name": "python",
   "nbconvert_exporter": "python",
   "pygments_lexer": "ipython3",
   "version": "3.7.6"
  }
 },
 "nbformat": 4,
 "nbformat_minor": 4
}
