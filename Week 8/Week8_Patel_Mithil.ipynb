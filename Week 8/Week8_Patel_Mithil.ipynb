{
 "cells": [
  {
   "cell_type": "code",
   "execution_count": 20,
   "metadata": {},
   "outputs": [],
   "source": [
    "# Mithil Patel \n",
    "# DSC 530 Week 8 Assignment\n",
    "# 31th July, 2022\n",
    "\n",
    "# Importing libraries\n",
    "import thinkstats2\n",
    "import numpy as np\n",
    "import nsfg\n",
    "import first\n",
    "import pandas as pd\n",
    "\n",
    "# Importing dataset and then righ joining with other dataset\n",
    "live, firsts, others = first.MakeFrames()\n",
    "live = live[live.prglngth>30]\n",
    "resp = nsfg.ReadFemResp()\n",
    "resp.index = resp.caseid\n",
    "join = live.join(resp, on='caseid', rsuffix='_r')"
   ]
  },
  {
   "cell_type": "markdown",
   "metadata": {},
   "source": [
    "Problem 11.1"
   ]
  },
  {
   "cell_type": "markdown",
   "metadata": {},
   "source": [
    "There are multiple variables we can use in order to estimate a co-worker's pregnancy length. Several variables such as birth weight will not be useful, and therefore should not be included in your model. In our model, we should use the mother's age, race, birth order, multiple births (nbrnaliv), baby's sex, and income variables to predict the baby's date of birth."
   ]
  },
  {
   "cell_type": "code",
   "execution_count": null,
   "metadata": {},
   "outputs": [],
   "source": []
  },
  {
   "cell_type": "markdown",
   "metadata": {},
   "source": [
    "Problem 11.3"
   ]
  },
  {
   "cell_type": "code",
   "execution_count": 27,
   "metadata": {},
   "outputs": [
    {
     "name": "stdout",
     "output_type": "stream",
     "text": [
      "Optimization terminated successfully.\n",
      "         Current function value: 1.687055\n",
      "         Iterations 5\n"
     ]
    },
    {
     "data": {
      "text/plain": [
       "0    2.342182\n",
       "dtype: float64"
      ]
     },
     "execution_count": 27,
     "metadata": {},
     "output_type": "execute_result"
    }
   ],
   "source": [
    "# Creating a poisson model \n",
    "formula = 'numbabes ~ age_r + C(race) + totincr + educat'\n",
    "poission_model = smf.poisson(formula, data=join).fit()\n",
    "\n",
    "# Making predictions\n",
    "user_variable = ['age_r', 'race', 'totincr', 'educat']\n",
    "pred = pd.DataFrame([[35, 1, 14, 16]], columns= user_variable)\n",
    "poission_model.predict(pred)"
   ]
  },
  {
   "cell_type": "markdown",
   "metadata": {},
   "source": [
    "Based on the poission constructed model above, we can predict that a woman who is 35 years old, black, and a college graduate whose annual household income exceeds $75,000 will have approximately 3 children."
   ]
  },
  {
   "cell_type": "markdown",
   "metadata": {},
   "source": [
    "Problem 11.4"
   ]
  },
  {
   "cell_type": "code",
   "execution_count": 36,
   "metadata": {},
   "outputs": [
    {
     "name": "stdout",
     "output_type": "stream",
     "text": [
      "Optimization terminated successfully.\n",
      "         Current function value: 1.087603\n",
      "         Iterations 8\n"
     ]
    },
    {
     "data": {
      "text/html": [
       "<div>\n",
       "<style scoped>\n",
       "    .dataframe tbody tr th:only-of-type {\n",
       "        vertical-align: middle;\n",
       "    }\n",
       "\n",
       "    .dataframe tbody tr th {\n",
       "        vertical-align: top;\n",
       "    }\n",
       "\n",
       "    .dataframe thead th {\n",
       "        text-align: right;\n",
       "    }\n",
       "</style>\n",
       "<table border=\"1\" class=\"dataframe\">\n",
       "  <thead>\n",
       "    <tr style=\"text-align: right;\">\n",
       "      <th></th>\n",
       "      <th>0</th>\n",
       "      <th>1</th>\n",
       "      <th>2</th>\n",
       "      <th>3</th>\n",
       "      <th>4</th>\n",
       "      <th>5</th>\n",
       "    </tr>\n",
       "  </thead>\n",
       "  <tbody>\n",
       "    <tr>\n",
       "      <th>0</th>\n",
       "      <td>0.662055</td>\n",
       "      <td>0.144018</td>\n",
       "      <td>0.00187</td>\n",
       "      <td>0.049168</td>\n",
       "      <td>0.037801</td>\n",
       "      <td>0.105088</td>\n",
       "    </tr>\n",
       "  </tbody>\n",
       "</table>\n",
       "</div>"
      ],
      "text/plain": [
       "          0         1        2         3         4         5\n",
       "0  0.662055  0.144018  0.00187  0.049168  0.037801  0.105088"
      ]
     },
     "execution_count": 36,
     "metadata": {},
     "output_type": "execute_result"
    }
   ],
   "source": [
    "## Creating a multinomial logistic regression model \n",
    "log_formula = 'rmarital ~ age_r + C(race) + totincr + educat'\n",
    "multi_log = smf.mnlogit(log_formula, data= join)\n",
    "log_res = multi_log.fit()\n",
    "\n",
    "# Making predictions\n",
    "log_variable = ['age_r', 'race', 'totincr', 'educat']\n",
    "log_pred = pd.DataFrame([[25, 2, 9, 12]], columns= log_variable)\n",
    "log_res.predict(log_pred)"
   ]
  },
  {
   "cell_type": "markdown",
   "metadata": {},
   "source": [
    "Using the multinomial logistic regression, a woman who is 25 years old, white, and a high school graduate whose annual household income is about $45,000 is approximately 66% likely to be married while 14% chance of cohabitating."
   ]
  },
  {
   "cell_type": "code",
   "execution_count": null,
   "metadata": {},
   "outputs": [],
   "source": []
  }
 ],
 "metadata": {
  "kernelspec": {
   "display_name": "Python 3",
   "language": "python",
   "name": "python3"
  },
  "language_info": {
   "codemirror_mode": {
    "name": "ipython",
    "version": 3
   },
   "file_extension": ".py",
   "mimetype": "text/x-python",
   "name": "python",
   "nbconvert_exporter": "python",
   "pygments_lexer": "ipython3",
   "version": "3.7.6"
  }
 },
 "nbformat": 4,
 "nbformat_minor": 4
}
