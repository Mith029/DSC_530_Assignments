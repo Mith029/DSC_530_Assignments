{
 "cells": [
  {
   "cell_type": "code",
   "execution_count": 6,
   "metadata": {},
   "outputs": [
    {
     "name": "stdout",
     "output_type": "stream",
     "text": [
      "Hello World! I wonder why that is always the default coding text to start with\n",
      "\n",
      "Added two numbers: 6\n",
      "Subtract two numbers: 2\n",
      "Multiple two numbers: 8\n",
      "Divide two numbers: 2\n",
      "\n",
      "String 1: Two strings\n",
      "String 2: are being concatenated\n",
      "Two strings are being concatenated\n",
      "\n",
      "List before appending: ['one', 2, '3', 4.0]\n",
      "List after appending: ['one', 2, '3', 4.0, 5]\n",
      "\n",
      "Tuple: ('DSC', '_', 530, ':', 'Mithil Patel')\n"
     ]
    }
   ],
   "source": [
    "#DSC 530\n",
    "#Week 2 Assignment\n",
    "#Programming Assignment: Week 2\n",
    "#Author: Mithil Patel\n",
    "#06/09/2022\n",
    "\n",
    "print(\"Hello World! I wonder why that is always the default coding\" \n",
    "      f\" text to start with\")\n",
    "number_1 = 2\n",
    "number_2 = 4\n",
    "add_number = number_1 + number_2\n",
    "subtract_number = number_2 - number_1\n",
    "multiply_number = number_1*number_2\n",
    "divide_number = int(number_2/number_1)\n",
    "\n",
    "print(f\"\\nAdded two numbers: {add_number}\\nSubtract two numbers:\"\n",
    "      f\" {subtract_number}\\nMultiple two numbers: {multiply_number}\"\n",
    "      f\"\\nDivide two numbers: {divide_number}\")\n",
    "string_1 = \"Two strings\"\n",
    "string_2 = \"are being concatenated\"\n",
    "print(f\"\\nString 1: {string_1}\\nString 2: {string_2}\")\n",
    "print(string_1 +\" \"+ string_2 + \"\\n\")\n",
    "\n",
    "list_created = [\"one\",2,\"3\",4.0]\n",
    "print(f\"List before appending: {list_created}\")\n",
    "list_created.append(5)\n",
    "print(f\"List after appending: {list_created}\\n\")\n",
    "\n",
    "created_tuple = (\"DSC\",\"_\",530,\":\",\"Mithil Patel\")\n",
    "print(f\"Tuple: {created_tuple}\")"
   ]
  },
  {
   "cell_type": "code",
   "execution_count": null,
   "metadata": {},
   "outputs": [],
   "source": []
  }
 ],
 "metadata": {
  "kernelspec": {
   "display_name": "Python 3",
   "language": "python",
   "name": "python3"
  },
  "language_info": {
   "codemirror_mode": {
    "name": "ipython",
    "version": 3
   },
   "file_extension": ".py",
   "mimetype": "text/x-python",
   "name": "python",
   "nbconvert_exporter": "python",
   "pygments_lexer": "ipython3",
   "version": "3.7.6"
  }
 },
 "nbformat": 4,
 "nbformat_minor": 4
}
