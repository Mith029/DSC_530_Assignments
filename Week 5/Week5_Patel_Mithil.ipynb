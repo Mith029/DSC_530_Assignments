{
 "cells": [
  {
   "cell_type": "markdown",
   "metadata": {},
   "source": [
    "Problem 5.1"
   ]
  },
  {
   "cell_type": "code",
   "execution_count": 6,
   "metadata": {},
   "outputs": [],
   "source": [
    "# Importing libraries\n",
    "import numpy as np\n",
    "import thinkstats2\n",
    "import thinkplot\n",
    "import scipy.stats\n",
    "import brfss\n"
   ]
  },
  {
   "cell_type": "code",
   "execution_count": 7,
   "metadata": {},
   "outputs": [
    {
     "name": "stdout",
     "output_type": "stream",
     "text": [
      "The percentage of U.S. male between the range 177.8 - 185.4 is 0.3420946829459531\n"
     ]
    }
   ],
   "source": [
    "# Finding the probability of the U.S. male using .cdf module\n",
    "# 5'10\" = 177.8 cm\n",
    "# 6'1\" = 185.4 cm\n",
    "upper_cdf = scipy.stats.norm.cdf(177.8, loc = 178, scale = 7.7) \n",
    "lower_cdf = scipy.stats.norm.cdf(185.4, loc = 178, scale = 7.7)\n",
    "\n",
    "print(\"The percentage of U.S. male between the range 177.8 - 185.4 is\", lower_cdf-upper_cdf)"
   ]
  },
  {
   "cell_type": "markdown",
   "metadata": {},
   "source": []
  },
  {
   "cell_type": "markdown",
   "metadata": {},
   "source": [
    "Problem 5.2"
   ]
  },
  {
   "cell_type": "code",
   "execution_count": 8,
   "metadata": {},
   "outputs": [
    {
     "data": {
      "image/png": "[encoded data removed]",
      "text/plain": [
       "<Figure size 432x288 with 1 Axes>"
      ]
     },
     "metadata": {
      "needs_background": "light"
     },
     "output_type": "display_data"
    }
   ],
   "source": [
    "# Plotting Pareto Distribution with given parameters\n",
    "xmin = 1\n",
    "alpha = 1.7\n",
    "\n",
    "xs, ps = thinkstats2.RenderParetoCdf(xmin, alpha, 0, 10)\n",
    "thinkplot.Plot(xs, ps, label=r\"$\\alpha=%g$\" % alpha)\n",
    "thinkplot.Config(title=\"Pareto CDF\", xlabel=\"x\", ylabel=\"CDF\", loc=\"lower right\")"
   ]
  },
  {
   "cell_type": "code",
   "execution_count": 9,
   "metadata": {},
   "outputs": [
    {
     "name": "stdout",
     "output_type": "stream",
     "text": [
      "Mean human height in meters:  2.428571428571429\n",
      "Fraction of the population that is shorter than the mean:  0.778739697565288\n",
      "Number of people taller than 1 km:  55603\n",
      "Based on our calculation above, the tallest person should be approximately 620 km.\n"
     ]
    }
   ],
   "source": [
    "import math\n",
    "\n",
    "# Finding mean human height with pareto distribution\n",
    "pareto_dist = scipy.stats.pareto(b=alpha, scale=xmin)\n",
    "mean = pareto_dist.mean()\n",
    "print(\"Mean human height in meters: \", mean)\n",
    "\n",
    "# calculating population that is shorter than the mean\n",
    "short_than_mean = pareto_dist.cdf(mean)\n",
    "print(\"Fraction of the population that is shorter than the mean: \", short_than_mean)\n",
    "\n",
    "taller_than_1km = 1 - pareto_dist.cdf(1000)\n",
    "\n",
    "# Note: we have rounded the result to the next time since number of people in decimal seems irrational\n",
    "print(\"Number of people taller than 1 km: \", math.ceil(taller_than_1km*7e09))\n",
    "\n",
    "# To calculate the tallest person, the output should be closer to 1.\n",
    "# Assume human population to be 7 billion \n",
    "\n",
    "tallest_person = (1 - pareto_dist.cdf(6.2e05))*7e09\n",
    "print(\"Based on our calculation above, the tallest person should be approximately 620 km.\")"
   ]
  },
  {
   "cell_type": "code",
   "execution_count": null,
   "metadata": {},
   "outputs": [],
   "source": []
  },
  {
   "cell_type": "markdown",
   "metadata": {},
   "source": [
    "Problem 6.1 "
   ]
  },
  {
   "cell_type": "code",
   "execution_count": 10,
   "metadata": {},
   "outputs": [
    {
     "data": {
      "text/html": [
       "<div>\n",
       "<style scoped>\n",
       "    .dataframe tbody tr th:only-of-type {\n",
       "        vertical-align: middle;\n",
       "    }\n",
       "\n",
       "    .dataframe tbody tr th {\n",
       "        vertical-align: top;\n",
       "    }\n",
       "\n",
       "    .dataframe thead th {\n",
       "        text-align: right;\n",
       "    }\n",
       "</style>\n",
       "<table border=\"1\" class=\"dataframe\">\n",
       "  <thead>\n",
       "    <tr style=\"text-align: right;\">\n",
       "      <th></th>\n",
       "      <th>income</th>\n",
       "      <th>freq</th>\n",
       "      <th>cumsum</th>\n",
       "      <th>ps</th>\n",
       "    </tr>\n",
       "  </thead>\n",
       "  <tbody>\n",
       "    <tr>\n",
       "      <th>0</th>\n",
       "      <td>4999.0</td>\n",
       "      <td>4204</td>\n",
       "      <td>4204</td>\n",
       "      <td>0.034330</td>\n",
       "    </tr>\n",
       "    <tr>\n",
       "      <th>1</th>\n",
       "      <td>9999.0</td>\n",
       "      <td>4729</td>\n",
       "      <td>8933</td>\n",
       "      <td>0.072947</td>\n",
       "    </tr>\n",
       "    <tr>\n",
       "      <th>2</th>\n",
       "      <td>14999.0</td>\n",
       "      <td>6982</td>\n",
       "      <td>15915</td>\n",
       "      <td>0.129963</td>\n",
       "    </tr>\n",
       "    <tr>\n",
       "      <th>3</th>\n",
       "      <td>19999.0</td>\n",
       "      <td>7157</td>\n",
       "      <td>23072</td>\n",
       "      <td>0.188407</td>\n",
       "    </tr>\n",
       "    <tr>\n",
       "      <th>4</th>\n",
       "      <td>24999.0</td>\n",
       "      <td>7131</td>\n",
       "      <td>30203</td>\n",
       "      <td>0.246640</td>\n",
       "    </tr>\n",
       "  </tbody>\n",
       "</table>\n",
       "</div>"
      ],
      "text/plain": [
       "    income  freq  cumsum        ps\n",
       "0   4999.0  4204    4204  0.034330\n",
       "1   9999.0  4729    8933  0.072947\n",
       "2  14999.0  6982   15915  0.129963\n",
       "3  19999.0  7157   23072  0.188407\n",
       "4  24999.0  7131   30203  0.246640"
      ]
     },
     "execution_count": 10,
     "metadata": {},
     "output_type": "execute_result"
    }
   ],
   "source": [
    "import hinc\n",
    "\n",
    "# Importing dataframe \n",
    "df = hinc.ReadData()\n",
    "df.head()"
   ]
  },
  {
   "cell_type": "code",
   "execution_count": 11,
   "metadata": {},
   "outputs": [],
   "source": [
    "def InterpolateSample(df, log_upper):\n",
    "    # compute the log10 of the upper bound for each range\n",
    "    df['log_upper'] = np.log10(df.income)\n",
    "\n",
    "    # get the lower bounds by shifting the upper bound and filling in\n",
    "    # the first element\n",
    "    df['log_lower'] = df.log_upper.shift(1)\n",
    "    df.loc[0, 'log_lower'] = 3.0\n",
    "\n",
    "    # plug in a value for the unknown upper bound of the highest range\n",
    "    df.loc[41, 'log_upper'] = log_upper\n",
    "    \n",
    "    # use the freq column to generate the right number of values in\n",
    "    # each range\n",
    "    arrays = []\n",
    "    for _, row in df.iterrows():\n",
    "        vals = np.linspace(row.log_lower, row.log_upper, int(row.freq))\n",
    "        arrays.append(vals)\n",
    "\n",
    "    # collect the arrays into a single sample\n",
    "    log_sample = np.concatenate(arrays)\n",
    "    return log_sample"
   ]
  },
  {
   "cell_type": "code",
   "execution_count": 12,
   "metadata": {},
   "outputs": [],
   "source": [
    "# function to generate income value for all respondant using linespace function\n",
    "log_sample = InterpolateSample(df, log_upper=6.0)\n",
    "respondant = np.power(10, log_sample)\n",
    "cdf = thinkstats2.Cdf(respondant)"
   ]
  },
  {
   "cell_type": "code",
   "execution_count": 13,
   "metadata": {},
   "outputs": [
    {
     "name": "stdout",
     "output_type": "stream",
     "text": [
      "Mean: 74278.7075311872\n",
      "Median: 51226.45447894046\n"
     ]
    }
   ],
   "source": [
    "# Calculating mean and median\n",
    "median = cdf.Value(0.5)\n",
    "mean = respondant.mean()\n",
    "print(f\"Mean: {mean}\\nMedian: {median}\")"
   ]
  },
  {
   "cell_type": "code",
   "execution_count": 14,
   "metadata": {},
   "outputs": [
    {
     "name": "stdout",
     "output_type": "stream",
     "text": [
      "skewness: 4.949920244429583\n",
      "Pearson's skewness: 0.7361258019141782\n"
     ]
    }
   ],
   "source": [
    "# Using author's functions to calculate skewness and Pearson's value\n",
    "\n",
    "def RawMoment(xs, k):\n",
    "    return sum(x**k for x in xs) / len(xs)\n",
    "\n",
    "def CentralMoment(xs, k):\n",
    "    mean = RawMoment(xs, 1)\n",
    "    return sum((x - mean)**k for x in xs) / len(xs)\n",
    "\n",
    "def StandardizedMoment(xs, k):\n",
    "    var = CentralMoment(xs, 2)\n",
    "    std = math.sqrt(var)\n",
    "    return CentralMoment(xs, k) / std**k\n",
    "\n",
    "\n",
    "def PearsonMedianSkewness(xs, median):\n",
    "    mean = RawMoment(xs, 1)\n",
    "    var = CentralMoment(xs, 2)\n",
    "    std = math.sqrt(var)\n",
    "    gp = 3 * (mean - median) / std\n",
    "    return gp\n",
    "\n",
    "skewness = StandardizedMoment(respondant, k=3)\n",
    "pearson = PearsonMedianSkewness(respondant, median)\n",
    "print(f\"skewness: {skewness}\\nPearson's skewness: {pearson}\")"
   ]
  },
  {
   "cell_type": "code",
   "execution_count": 15,
   "metadata": {},
   "outputs": [
    {
     "name": "stdout",
     "output_type": "stream",
     "text": [
      "Fraction of population below the mean:  0.660005879566872\n"
     ]
    }
   ],
   "source": [
    "income_below_mean = cdf.Prob(mean)\n",
    "print(f\"Fraction of population below the mean: \",income_below_mean)"
   ]
  },
  {
   "cell_type": "code",
   "execution_count": 17,
   "metadata": {},
   "outputs": [
    {
     "name": "stdout",
     "output_type": "stream",
     "text": [
      "Mean: 1567333257.5653448\n",
      "Median: 51226.45447894046\n",
      "skewness: 23.79016708094421\n",
      "Pearson's skewness: 0.16800598065724953\n"
     ]
    }
   ],
   "source": [
    "# How do the results depend on the assumed upper bound?\n",
    "upper_sample = InterpolateSample(df, 12)\n",
    "upper_respondant = np.power(10, upper_sample)\n",
    "upper_cdf = thinkstats2.Cdf(upper_respondant)\n",
    "upper_median = cdf.Value(0.5)\n",
    "upper_mean = upper_respondant.mean()\n",
    "print(f\"Mean: {upper_mean}\\nMedian: {upper_median}\")\n",
    "\n",
    "upper_skewness = StandardizedMoment(upper_respondant, k=3)\n",
    "upper_pearson = PearsonMedianSkewness(upper_respondant, upper_median)\n",
    "print(f\"skewness: {upper_skewness}\\nPearson's skewness: {upper_pearson}\")"
   ]
  },
  {
   "cell_type": "markdown",
   "metadata": {},
   "source": [
    "# How do the results depend on the assumed upper bound?\n",
    "Based on the calculation above, we can observe that the Pearson's skewness value decreases closer to zero as the upper bound is doubled, which indicates that the distribution has no skewness. If the distribution is postiviely skewness, changing the upper bound to a higher value will certainly change the mean and shift the shape of the right, to become less skewed. "
   ]
  },
  {
   "cell_type": "code",
   "execution_count": null,
   "metadata": {},
   "outputs": [],
   "source": []
  }
 ],
 "metadata": {
  "kernelspec": {
   "display_name": "Python 3",
   "language": "python",
   "name": "python3"
  },
  "language_info": {
   "codemirror_mode": {
    "name": "ipython",
    "version": 3
   },
   "file_extension": ".py",
   "mimetype": "text/x-python",
   "name": "python",
   "nbconvert_exporter": "python",
   "pygments_lexer": "ipython3",
   "version": "3.7.6"
  }
 },
 "nbformat": 4,
 "nbformat_minor": 4
}
